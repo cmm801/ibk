{
 "cells": [
  {
   "cell_type": "code",
   "execution_count": 1,
   "metadata": {},
   "outputs": [],
   "source": [
    "import datetime\n",
    "import time\n",
    "import master\n",
    "\n",
    "import sys, os\n",
    "sys.path.append(os.path.join(os.path.dirname('.'), '..', 'lib'))\n",
    "sys.path.insert(0, '/Users/chris/programming/interactivebrokers')\n",
    "import ibapi\n",
    "\n",
    "from matplotlib import pyplot as plt\n",
    "import seaborn as sns\n",
    "sns.set()"
   ]
  },
  {
   "cell_type": "code",
   "execution_count": 2,
   "metadata": {
    "scrolled": true
   },
   "outputs": [],
   "source": [
    "PORT = 7497 # 7497 is paper trading account; 7496 is actual IB trading accoubt\n",
    "\n",
    "# After execution, TWS will prompt you to accept the connection\n",
    "# The ERROR simply confirms that there is a connection to the market data.\n",
    "app = master.Master(port=PORT)"
   ]
  },
  {
   "cell_type": "code",
   "execution_count": 3,
   "metadata": {},
   "outputs": [
    {
     "name": "stderr",
     "output_type": "stream",
     "text": [
      "ERROR -1 2104 Market data farm connection is OK:usfuture.nj\n",
      "ERROR -1 2104 Market data farm connection is OK:usfarm.nj\n",
      "ERROR -1 2104 Market data farm connection is OK:usfuture\n",
      "ERROR -1 2104 Market data farm connection is OK:cashfarm\n",
      "ERROR -1 2104 Market data farm connection is OK:usfarm\n",
      "ERROR -1 2106 HMDS data farm connection is OK:ushmds.nj\n",
      "ERROR -1 2106 HMDS data farm connection is OK:ushmds\n",
      "ERROR -1 2158 Sec-def data farm connection is OK:secdefnj\n"
     ]
    },
    {
     "name": "stdout",
     "output_type": "stream",
     "text": [
      "serverVersion:155 connectionTime:b'20200331 02:10:27 EST'\n",
      "MarketDataApp connecting to IB...\n",
      "ERROR: request -1\n",
      "ERROR: request -1\n",
      "ERROR: request -1\n",
      "ERROR: request -1\n",
      "ERROR: request -1\n",
      "ERROR: request -1\n",
      "ERROR: request -1\n",
      "ERROR: request -1\n",
      "MarketDataApp connected.\n"
     ]
    },
    {
     "data": {
      "text/plain": [
       "999861.8"
      ]
     },
     "execution_count": 3,
     "metadata": {},
     "output_type": "execute_result"
    }
   ],
   "source": [
    "# See the account value\n",
    "app.get_total_account_value()"
   ]
  },
  {
   "cell_type": "code",
   "execution_count": 4,
   "metadata": {},
   "outputs": [
    {
     "data": {
      "text/html": [
       "<div>\n",
       "<style scoped>\n",
       "    .dataframe tbody tr th:only-of-type {\n",
       "        vertical-align: middle;\n",
       "    }\n",
       "\n",
       "    .dataframe tbody tr th {\n",
       "        vertical-align: top;\n",
       "    }\n",
       "\n",
       "    .dataframe thead th {\n",
       "        text-align: right;\n",
       "    }\n",
       "</style>\n",
       "<table border=\"1\" class=\"dataframe\">\n",
       "  <thead>\n",
       "    <tr style=\"text-align: right;\">\n",
       "      <th></th>\n",
       "      <th>account</th>\n",
       "      <th>cost</th>\n",
       "      <th>localSymbol</th>\n",
       "      <th>multiplier</th>\n",
       "      <th>secType</th>\n",
       "      <th>size</th>\n",
       "      <th>symbol</th>\n",
       "      <th>totCost</th>\n",
       "    </tr>\n",
       "    <tr>\n",
       "      <th>localSymbol</th>\n",
       "      <th></th>\n",
       "      <th></th>\n",
       "      <th></th>\n",
       "      <th></th>\n",
       "      <th></th>\n",
       "      <th></th>\n",
       "      <th></th>\n",
       "      <th></th>\n",
       "    </tr>\n",
       "  </thead>\n",
       "  <tbody>\n",
       "    <tr>\n",
       "      <th>ESM0</th>\n",
       "      <td>DU1964760</td>\n",
       "      <td>130202.1</td>\n",
       "      <td>ESM0</td>\n",
       "      <td>50</td>\n",
       "      <td>FUT</td>\n",
       "      <td>2.0</td>\n",
       "      <td>ES</td>\n",
       "      <td>260404.2</td>\n",
       "    </tr>\n",
       "  </tbody>\n",
       "</table>\n",
       "</div>"
      ],
      "text/plain": [
       "               account      cost localSymbol  multiplier secType  size symbol  \\\n",
       "localSymbol                                                                     \n",
       "ESM0         DU1964760  130202.1        ESM0          50     FUT   2.0     ES   \n",
       "\n",
       "              totCost  \n",
       "localSymbol            \n",
       "ESM0         260404.2  "
      ]
     },
     "execution_count": 4,
     "metadata": {},
     "output_type": "execute_result"
    }
   ],
   "source": [
    "# Get the current positions\n",
    "df, contracts = app.get_positions()\n",
    "df"
   ]
  },
  {
   "cell_type": "code",
   "execution_count": 5,
   "metadata": {},
   "outputs": [
    {
     "data": {
      "text/html": [
       "<div>\n",
       "<style scoped>\n",
       "    .dataframe tbody tr th:only-of-type {\n",
       "        vertical-align: middle;\n",
       "    }\n",
       "\n",
       "    .dataframe tbody tr th {\n",
       "        vertical-align: top;\n",
       "    }\n",
       "\n",
       "    .dataframe thead th {\n",
       "        text-align: right;\n",
       "    }\n",
       "</style>\n",
       "<table border=\"1\" class=\"dataframe\">\n",
       "  <thead>\n",
       "    <tr style=\"text-align: right;\">\n",
       "      <th></th>\n",
       "      <th>account</th>\n",
       "      <th>currency</th>\n",
       "      <th>reqId</th>\n",
       "      <th>tag</th>\n",
       "      <th>value</th>\n",
       "    </tr>\n",
       "  </thead>\n",
       "  <tbody>\n",
       "    <tr>\n",
       "      <th>0</th>\n",
       "      <td>DU1964760</td>\n",
       "      <td>BASE</td>\n",
       "      <td>2</td>\n",
       "      <td>Currency</td>\n",
       "      <td>BASE</td>\n",
       "    </tr>\n",
       "    <tr>\n",
       "      <th>1</th>\n",
       "      <td>DU1964760</td>\n",
       "      <td>BASE</td>\n",
       "      <td>2</td>\n",
       "      <td>CashBalance</td>\n",
       "      <td>999795.80</td>\n",
       "    </tr>\n",
       "    <tr>\n",
       "      <th>2</th>\n",
       "      <td>DU1964760</td>\n",
       "      <td>BASE</td>\n",
       "      <td>2</td>\n",
       "      <td>TotalCashBalance</td>\n",
       "      <td>999795.80</td>\n",
       "    </tr>\n",
       "    <tr>\n",
       "      <th>3</th>\n",
       "      <td>DU1964760</td>\n",
       "      <td>BASE</td>\n",
       "      <td>2</td>\n",
       "      <td>AccruedCash</td>\n",
       "      <td>66.00</td>\n",
       "    </tr>\n",
       "    <tr>\n",
       "      <th>4</th>\n",
       "      <td>DU1964760</td>\n",
       "      <td>BASE</td>\n",
       "      <td>2</td>\n",
       "      <td>StockMarketValue</td>\n",
       "      <td>0.00</td>\n",
       "    </tr>\n",
       "  </tbody>\n",
       "</table>\n",
       "</div>"
      ],
      "text/plain": [
       "     account currency  reqId               tag      value\n",
       "0  DU1964760     BASE      2          Currency       BASE\n",
       "1  DU1964760     BASE      2       CashBalance  999795.80\n",
       "2  DU1964760     BASE      2  TotalCashBalance  999795.80\n",
       "3  DU1964760     BASE      2       AccruedCash      66.00\n",
       "4  DU1964760     BASE      2  StockMarketValue       0.00"
      ]
     },
     "execution_count": 5,
     "metadata": {},
     "output_type": "execute_result"
    }
   ],
   "source": [
    "# Get other account details\n",
    "app.get_account_details().head()"
   ]
  },
  {
   "cell_type": "code",
   "execution_count": 6,
   "metadata": {},
   "outputs": [
    {
     "name": "stderr",
     "output_type": "stream",
     "text": [
      "ERROR -1 2104 Market data farm connection is OK:usfuture.nj\n",
      "ERROR -1 2104 Market data farm connection is OK:usfarm.nj\n",
      "ERROR -1 2104 Market data farm connection is OK:usfuture\n",
      "ERROR -1 2104 Market data farm connection is OK:cashfarm\n",
      "ERROR -1 2104 Market data farm connection is OK:usfarm\n",
      "ERROR -1 2106 HMDS data farm connection is OK:ushmds.nj\n",
      "ERROR -1 2106 HMDS data farm connection is OK:ushmds\n",
      "ERROR -1 2158 Sec-def data farm connection is OK:secdefnj\n"
     ]
    },
    {
     "name": "stdout",
     "output_type": "stream",
     "text": [
      "serverVersion:155 connectionTime:b'20200331 02:10:32 EST'\n",
      "MarketDataApp connecting to IB...\n",
      "ERROR: request -1\n",
      "ERROR: request -1\n",
      "ERROR: request -1\n",
      "ERROR: request -1\n",
      "ERROR: request -1\n",
      "ERROR: request -1\n",
      "ERROR: request -1\n",
      "ERROR: request -1\n",
      "MarketDataApp connected.\n"
     ]
    },
    {
     "data": {
      "text/plain": [
       "[112037427464: 416904,SPX,IND,,0.0,,,CBOE,,USD,SPX,,False,,combo:,\n",
       " 112037426568: 253190534,EWJ,STK,,0.0,,,SMART,ARCA,USD,EWJ,EWJ,False,,combo:]"
      ]
     },
     "execution_count": 6,
     "metadata": {},
     "output_type": "execute_result"
    }
   ],
   "source": [
    "# Get some cached contracts\n",
    "spx_contract = app.get_contract('SPX')\n",
    "ewj_contract = app.get_contract('EWJ')\n",
    "\n",
    "contractList = [spx_contract, ewj_contract]\n",
    "contractList"
   ]
  },
  {
   "cell_type": "code",
   "execution_count": 7,
   "metadata": {},
   "outputs": [
    {
     "data": {
      "text/plain": [
       "112037449912: 8314,IBM,STK,,0.0,,,SMART,NYSE,USD,IBM,IBM,False,,combo:"
      ]
     },
     "execution_count": 7,
     "metadata": {},
     "output_type": "execute_result"
    }
   ],
   "source": [
    "# Find a matching contract using the modules matching rules\n",
    "_contract = ibapi.contract.Contract()\n",
    "_contract.symbol = 'IBM'\n",
    "_contract.secType = 'STK'\n",
    "_contract.currency = 'USD'\n",
    "app.match_contract(_contract)"
   ]
  },
  {
   "cell_type": "code",
   "execution_count": 8,
   "metadata": {},
   "outputs": [
    {
     "name": "stderr",
     "output_type": "stream",
     "text": [
      "ERROR -1 2104 Market data farm connection is OK:usfuture.nj\n",
      "ERROR -1 2104 Market data farm connection is OK:usfarm.nj\n",
      "ERROR -1 2104 Market data farm connection is OK:usfuture\n",
      "ERROR -1 2104 Market data farm connection is OK:cashfarm\n",
      "ERROR -1 2104 Market data farm connection is OK:usfarm\n",
      "ERROR -1 2106 HMDS data farm connection is OK:ushmds.nj\n",
      "ERROR -1 2106 HMDS data farm connection is OK:ushmds\n",
      "ERROR -1 2158 Sec-def data farm connection is OK:secdefnj\n"
     ]
    },
    {
     "name": "stdout",
     "output_type": "stream",
     "text": [
      "serverVersion:155 connectionTime:b'20200331 01:33:14 EST'\n",
      "MarketDataApp connecting to IB...\n",
      "ERROR: request -1\n",
      "ERROR: request -1\n",
      "ERROR: request -1\n",
      "ERROR: request -1\n",
      "ERROR: request -1\n",
      "ERROR: request -1\n",
      "ERROR: request -1\n",
      "ERROR: request -1\n",
      "MarketDataApp connected.\n"
     ]
    },
    {
     "data": {
      "text/plain": [
       "[{'localSymbol': 'SPX',\n",
       "  'BID': -1.0,\n",
       "  'BID_SIZE': 0,\n",
       "  'ASK': -1.0,\n",
       "  'ASK_SIZE': 0,\n",
       "  'CLOSE': 2626.65},\n",
       " {'localSymbol': 'EWJ',\n",
       "  'CLOSE': 50.79,\n",
       "  'BID': -1.0,\n",
       "  'BID_SIZE': 0,\n",
       "  'ASK': -1.0,\n",
       "  'ASK_SIZE': 0}]"
      ]
     },
     "execution_count": 8,
     "metadata": {},
     "output_type": "execute_result"
    }
   ],
   "source": [
    "# WARNING: there might be a small charge for requesting market \n",
    "#    data snapshots, depending on your market data subscriptions.\n",
    "#\n",
    "# Get market data snapshots for a set of contracts\n",
    "#  (This is slow and takes about 11 seconds)\n",
    "snapshots = app.get_market_data_snapshots(contractList)\n",
    "snapshots"
   ]
  },
  {
   "cell_type": "code",
   "execution_count": 8,
   "metadata": {},
   "outputs": [
    {
     "name": "stderr",
     "output_type": "stream",
     "text": [
      "ERROR -1 2104 Market data farm connection is OK:usfuture.nj\n",
      "ERROR -1 2104 Market data farm connection is OK:usfarm.nj\n",
      "ERROR -1 2104 Market data farm connection is OK:usfuture\n",
      "ERROR -1 2104 Market data farm connection is OK:cashfarm\n",
      "ERROR -1 2104 Market data farm connection is OK:usfarm\n",
      "ERROR -1 2106 HMDS data farm connection is OK:ushmds.nj\n",
      "ERROR -1 2106 HMDS data farm connection is OK:ushmds\n",
      "ERROR -1 2158 Sec-def data farm connection is OK:secdefnj\n"
     ]
    },
    {
     "name": "stdout",
     "output_type": "stream",
     "text": [
      "serverVersion:155 connectionTime:b'20200331 02:10:39 EST'\n",
      "MarketDataApp connecting to IB...\n",
      "ERROR: request -1\n",
      "ERROR: request -1\n",
      "ERROR: request -1\n",
      "ERROR: request -1\n",
      "ERROR: request -1\n",
      "ERROR: request -1\n",
      "ERROR: request -1\n",
      "ERROR: request -1\n",
      "MarketDataApp connected.\n",
      "WARNING: this request may be invalid. Need to add tests that duration is valid.\n",
      "WARNING: this request may be invalid. Need to add tests that duration is valid.\n"
     ]
    },
    {
     "data": {
      "text/html": [
       "<div>\n",
       "<style scoped>\n",
       "    .dataframe tbody tr th:only-of-type {\n",
       "        vertical-align: middle;\n",
       "    }\n",
       "\n",
       "    .dataframe tbody tr th {\n",
       "        vertical-align: top;\n",
       "    }\n",
       "\n",
       "    .dataframe thead th {\n",
       "        text-align: right;\n",
       "    }\n",
       "</style>\n",
       "<table border=\"1\" class=\"dataframe\">\n",
       "  <thead>\n",
       "    <tr style=\"text-align: right;\">\n",
       "      <th></th>\n",
       "      <th>average</th>\n",
       "      <th>barCount</th>\n",
       "      <th>close</th>\n",
       "      <th>high</th>\n",
       "      <th>low</th>\n",
       "      <th>open</th>\n",
       "      <th>volume</th>\n",
       "    </tr>\n",
       "    <tr>\n",
       "      <th>date</th>\n",
       "      <th></th>\n",
       "      <th></th>\n",
       "      <th></th>\n",
       "      <th></th>\n",
       "      <th></th>\n",
       "      <th></th>\n",
       "      <th></th>\n",
       "    </tr>\n",
       "  </thead>\n",
       "  <tbody>\n",
       "    <tr>\n",
       "      <th>20200326</th>\n",
       "      <td>49.8250</td>\n",
       "      <td>71967</td>\n",
       "      <td>50.24</td>\n",
       "      <td>50.30</td>\n",
       "      <td>48.99</td>\n",
       "      <td>49.02</td>\n",
       "      <td>135768</td>\n",
       "    </tr>\n",
       "    <tr>\n",
       "      <th>20200327</th>\n",
       "      <td>50.3230</td>\n",
       "      <td>56449</td>\n",
       "      <td>50.18</td>\n",
       "      <td>50.82</td>\n",
       "      <td>49.76</td>\n",
       "      <td>50.03</td>\n",
       "      <td>111759</td>\n",
       "    </tr>\n",
       "    <tr>\n",
       "      <th>20200330</th>\n",
       "      <td>50.5175</td>\n",
       "      <td>35083</td>\n",
       "      <td>50.79</td>\n",
       "      <td>50.85</td>\n",
       "      <td>50.03</td>\n",
       "      <td>50.25</td>\n",
       "      <td>66187</td>\n",
       "    </tr>\n",
       "  </tbody>\n",
       "</table>\n",
       "</div>"
      ],
      "text/plain": [
       "          average  barCount  close   high    low   open  volume\n",
       "date                                                           \n",
       "20200326  49.8250     71967  50.24  50.30  48.99  49.02  135768\n",
       "20200327  50.3230     56449  50.18  50.82  49.76  50.03  111759\n",
       "20200330  50.5175     35083  50.79  50.85  50.03  50.25   66187"
      ]
     },
     "execution_count": 8,
     "metadata": {},
     "output_type": "execute_result"
    }
   ],
   "source": [
    "# Request time series data using a 'duration' argument\n",
    "# Using end = \"\" tells TWS to get data up until current time\n",
    "frequency = '1d'\n",
    "duration = '3d'\n",
    "ts_data = app.get_historical_data(contractList, frequency=frequency, \n",
    "                                        use_rth=True, data_type=\"TRADES\",\n",
    "                                        start=\"\", end=\"\", duration=duration)\n",
    "ts_data['EWJ']"
   ]
  },
  {
   "cell_type": "code",
   "execution_count": 18,
   "metadata": {},
   "outputs": [
    {
     "name": "stdout",
     "output_type": "stream",
     "text": [
      "[datetime.timedelta(days=1, seconds=25200), {'n': 1.0, 'units': 'hours'}, datetime.timedelta(days=30, seconds=37728)]\n"
     ]
    },
    {
     "data": {
      "text/html": [
       "<div>\n",
       "<style scoped>\n",
       "    .dataframe tbody tr th:only-of-type {\n",
       "        vertical-align: middle;\n",
       "    }\n",
       "\n",
       "    .dataframe tbody tr th {\n",
       "        vertical-align: top;\n",
       "    }\n",
       "\n",
       "    .dataframe thead th {\n",
       "        text-align: right;\n",
       "    }\n",
       "</style>\n",
       "<table border=\"1\" class=\"dataframe\">\n",
       "  <thead>\n",
       "    <tr style=\"text-align: right;\">\n",
       "      <th></th>\n",
       "      <th>average</th>\n",
       "      <th>barCount</th>\n",
       "      <th>close</th>\n",
       "      <th>high</th>\n",
       "      <th>low</th>\n",
       "      <th>open</th>\n",
       "      <th>volume</th>\n",
       "    </tr>\n",
       "    <tr>\n",
       "      <th>date</th>\n",
       "      <th></th>\n",
       "      <th></th>\n",
       "      <th></th>\n",
       "      <th></th>\n",
       "      <th></th>\n",
       "      <th></th>\n",
       "      <th></th>\n",
       "    </tr>\n",
       "  </thead>\n",
       "  <tbody>\n",
       "    <tr>\n",
       "      <th>20200225  04:00:00</th>\n",
       "      <td>1430.000</td>\n",
       "      <td>2</td>\n",
       "      <td>1430.00</td>\n",
       "      <td>1430.00</td>\n",
       "      <td>1430.00</td>\n",
       "      <td>1430.00</td>\n",
       "      <td>2</td>\n",
       "    </tr>\n",
       "    <tr>\n",
       "      <th>20200225  05:00:00</th>\n",
       "      <td>1422.194</td>\n",
       "      <td>3</td>\n",
       "      <td>1422.00</td>\n",
       "      <td>1422.63</td>\n",
       "      <td>1422.00</td>\n",
       "      <td>1422.63</td>\n",
       "      <td>3</td>\n",
       "    </tr>\n",
       "    <tr>\n",
       "      <th>20200225  06:00:00</th>\n",
       "      <td>1422.000</td>\n",
       "      <td>0</td>\n",
       "      <td>1422.00</td>\n",
       "      <td>1422.00</td>\n",
       "      <td>1422.00</td>\n",
       "      <td>1422.00</td>\n",
       "      <td>0</td>\n",
       "    </tr>\n",
       "    <tr>\n",
       "      <th>20200225  07:00:00</th>\n",
       "      <td>1431.726</td>\n",
       "      <td>19</td>\n",
       "      <td>1436.59</td>\n",
       "      <td>1436.59</td>\n",
       "      <td>1428.81</td>\n",
       "      <td>1431.99</td>\n",
       "      <td>26</td>\n",
       "    </tr>\n",
       "    <tr>\n",
       "      <th>20200225  08:00:00</th>\n",
       "      <td>1434.544</td>\n",
       "      <td>16</td>\n",
       "      <td>1435.82</td>\n",
       "      <td>1436.00</td>\n",
       "      <td>1432.00</td>\n",
       "      <td>1432.00</td>\n",
       "      <td>16</td>\n",
       "    </tr>\n",
       "  </tbody>\n",
       "</table>\n",
       "</div>"
      ],
      "text/plain": [
       "                     average  barCount    close     high      low     open  \\\n",
       "date                                                                         \n",
       "20200225  04:00:00  1430.000         2  1430.00  1430.00  1430.00  1430.00   \n",
       "20200225  05:00:00  1422.194         3  1422.00  1422.63  1422.00  1422.63   \n",
       "20200225  06:00:00  1422.000         0  1422.00  1422.00  1422.00  1422.00   \n",
       "20200225  07:00:00  1431.726        19  1436.59  1436.59  1428.81  1431.99   \n",
       "20200225  08:00:00  1434.544        16  1435.82  1436.00  1432.00  1432.00   \n",
       "\n",
       "                    volume  \n",
       "date                        \n",
       "20200225  04:00:00       2  \n",
       "20200225  05:00:00       3  \n",
       "20200225  06:00:00       0  \n",
       "20200225  07:00:00      26  \n",
       "20200225  08:00:00      16  "
      ]
     },
     "execution_count": 18,
     "metadata": {},
     "output_type": "execute_result"
    }
   ],
   "source": [
    "# Request time series data using a start/end date.\n",
    "# Using duration = '' tells TWS to ignore the duration argument.\n",
    "# Using end = \"\" tells TWS to get data up until current time.\n",
    "# TWS will assume dates correspond to the 'TWS Timezone', which is the\n",
    "#    timezone that you select when you log into TWS.\n",
    "ticker = 'GOOG'\n",
    "frequency = '1h'\n",
    "start = '20200324 9:30:00'\n",
    "end = '20200325 16:30:00'\n",
    "duration = ''\n",
    "\n",
    "_contract = app.get_contract(ticker)\n",
    "contractList = [_contract]\n",
    "ts_data = app.get_historical_data(contractList, frequency=frequency, \n",
    "                                        use_rth=False, data_type=\"TRADES\",\n",
    "                                        start=start, end=end, duration=duration)\n",
    "\n",
    "# The output is a dictionary with localSymbols as keys\n",
    "ts_data[_contract.localSymbol].head()"
   ]
  },
  {
   "cell_type": "code",
   "execution_count": 11,
   "metadata": {},
   "outputs": [
    {
     "data": {
      "text/plain": [
       "{'conId': 265598,\n",
       " 'symbol': 'AAPL',\n",
       " 'secType': 'STK',\n",
       " 'lastTradeDateOrContractMonth': '',\n",
       " 'strike': 0.0,\n",
       " 'right': '',\n",
       " 'multiplier': '',\n",
       " 'exchange': 'SMART',\n",
       " 'primaryExchange': 'NASDAQ',\n",
       " 'currency': 'USD',\n",
       " 'localSymbol': 'AAPL',\n",
       " 'tradingClass': 'NMS',\n",
       " 'includeExpired': False,\n",
       " 'secIdType': '',\n",
       " 'secId': '',\n",
       " 'comboLegsDescrip': '',\n",
       " 'comboLegs': None,\n",
       " 'deltaNeutralContract': None}"
      ]
     },
     "execution_count": 11,
     "metadata": {},
     "output_type": "execute_result"
    }
   ],
   "source": [
    "app.get_contract(\"AAPL\").__dict__"
   ]
  },
  {
   "cell_type": "code",
   "execution_count": 5,
   "metadata": {},
   "outputs": [
    {
     "name": "stderr",
     "output_type": "stream",
     "text": [
      "ERROR -1 2104 Market data farm connection is OK:usfuture.nj\n",
      "ERROR -1 2104 Market data farm connection is OK:usfarm.nj\n",
      "ERROR -1 2104 Market data farm connection is OK:usfuture\n",
      "ERROR -1 2104 Market data farm connection is OK:cashfarm\n",
      "ERROR -1 2104 Market data farm connection is OK:usfarm\n",
      "ERROR -1 2106 HMDS data farm connection is OK:ushmds.nj\n",
      "ERROR -1 2106 HMDS data farm connection is OK:ushmds\n",
      "ERROR -1 2158 Sec-def data farm connection is OK:secdefnj\n"
     ]
    },
    {
     "name": "stdout",
     "output_type": "stream",
     "text": [
      "serverVersion:155 connectionTime:b'20200331 03:42:41 EST'\n",
      "MarketDataApp connecting to IB...\n",
      "ERROR: request -1\n",
      "ERROR: request -1\n",
      "ERROR: request -1\n",
      "ERROR: request -1\n",
      "ERROR: request -1\n",
      "ERROR: request -1\n",
      "ERROR: request -1\n",
      "ERROR: request -1\n",
      "MarketDataApp connected.\n"
     ]
    }
   ],
   "source": [
    "_contract = app.get_contract('ESM0')\n",
    "bracket_order = {\n",
    "    'contract': _contract,\n",
    "    'action': \"BUY\",\n",
    "    'price': 2620.,\n",
    "    'quantity': 1,\n",
    "    'outside_rth': False,\n",
    "    'tif': \"DAY\",\n",
    "    'profit_price': 2625,\n",
    "    'stop_price': 2615\n",
    "}\n",
    "\n",
    "req_orders = [bracket_order]\n",
    "orders = app.create_bracket_orders(req_orders, transmit=False)\n",
    "app.place_all_orders()"
   ]
  },
  {
   "cell_type": "code",
   "execution_count": 7,
   "metadata": {},
   "outputs": [
    {
     "data": {
      "text/plain": [
       "{}"
      ]
     },
     "execution_count": 7,
     "metadata": {},
     "output_type": "execute_result"
    }
   ],
   "source": [
    "app.get_saved_orders()"
   ]
  },
  {
   "cell_type": "code",
   "execution_count": 8,
   "metadata": {},
   "outputs": [
    {
     "data": {
      "text/plain": [
       "[]"
      ]
     },
     "execution_count": 8,
     "metadata": {},
     "output_type": "execute_result"
    }
   ],
   "source": [
    "app.get_open_orders()"
   ]
  }
 ],
 "metadata": {
  "kernelspec": {
   "display_name": "Python (python37)",
   "language": "python",
   "name": "python37"
  },
  "language_info": {
   "codemirror_mode": {
    "name": "ipython",
    "version": 3
   },
   "file_extension": ".py",
   "mimetype": "text/x-python",
   "name": "python",
   "nbconvert_exporter": "python",
   "pygments_lexer": "ipython3",
   "version": "3.7.3"
  }
 },
 "nbformat": 4,
 "nbformat_minor": 2
}
