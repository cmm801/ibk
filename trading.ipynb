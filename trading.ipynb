{
 "cells": [
  {
   "cell_type": "code",
   "execution_count": 1,
   "metadata": {},
   "outputs": [],
   "source": [
    "import datetime\n",
    "import time\n",
    "import pytz\n",
    "\n",
    "import pandas as pd\n",
    "import numpy as np\n",
    "import pandas_market_calendars as pmc\n",
    "\n",
    "import sys, os\n",
    "sys.path.append(os.path.join(os.path.dirname('.'), '..', 'lib'))\n",
    "sys.path.insert(0, '/Users/chris/programming/interactivebrokers')\n",
    "import ibapi\n",
    "\n",
    "sys.path.insert(0, '/Users/chris/programming/analyses/trading')\n",
    "import tradingutils as tutils\n",
    "\n",
    "import matplotlib.pyplot as plt\n",
    "import seaborn as sns\n",
    "sns.set()"
   ]
  },
  {
   "cell_type": "code",
   "execution_count": 2,
   "metadata": {},
   "outputs": [
    {
     "name": "stderr",
     "output_type": "stream",
     "text": [
      "ERROR -1 2104 Market data farm connection is OK:usfuture.nj\n",
      "ERROR -1 2104 Market data farm connection is OK:usfarm.nj\n",
      "ERROR -1 2104 Market data farm connection is OK:usfuture\n",
      "ERROR -1 2104 Market data farm connection is OK:cashfarm\n",
      "ERROR -1 2104 Market data farm connection is OK:usfarm\n",
      "ERROR -1 2106 HMDS data farm connection is OK:euhmds\n",
      "ERROR -1 2106 HMDS data farm connection is OK:fundfarm\n",
      "ERROR -1 2106 HMDS data farm connection is OK:ushmds\n",
      "ERROR -1 2158 Sec-def data farm connection is OK:secdefnj\n"
     ]
    },
    {
     "name": "stdout",
     "output_type": "stream",
     "text": [
      "serverVersion:155 connectionTime:b'20200423 01:00:11 EST'\n",
      "MarketDataApp connecting to IB...\n",
      "ERROR: request -1\n",
      "ERROR: request -1\n",
      "ERROR: request -1\n",
      "ERROR: request -1\n",
      "ERROR: request -1\n",
      "ERROR: request -1\n",
      "ERROR: request -1\n",
      "ERROR: request -1\n",
      "ERROR: request -1\n"
     ]
    },
    {
     "name": "stderr",
     "output_type": "stream",
     "text": [
      "ERROR -1 2104 Market data farm connection is OK:usfuture.nj\n",
      "ERROR -1 2104 Market data farm connection is OK:usfarm.nj\n",
      "ERROR -1 2104 Market data farm connection is OK:usfuture\n",
      "ERROR -1 2104 Market data farm connection is OK:cashfarm\n",
      "ERROR -1 2104 Market data farm connection is OK:usfarm\n",
      "ERROR -1 2106 HMDS data farm connection is OK:euhmds\n",
      "ERROR -1 2106 HMDS data farm connection is OK:fundfarm\n",
      "ERROR -1 2106 HMDS data farm connection is OK:ushmds\n",
      "ERROR -1 2158 Sec-def data farm connection is OK:secdefnj\n"
     ]
    },
    {
     "name": "stdout",
     "output_type": "stream",
     "text": [
      "MarketDataApp connected.\n",
      "serverVersion:155 connectionTime:b'20200423 01:00:11 EST'\n",
      "MarketDataApp connecting to IB...\n",
      "ERROR: request -1\n",
      "ERROR: request -1\n",
      "ERROR: request -1\n",
      "ERROR: request -1\n",
      "ERROR: request -1\n",
      "ERROR: request -1\n",
      "ERROR: request -1\n",
      "ERROR: request -1\n",
      "ERROR: request -1\n",
      "MarketDataApp connected.\n"
     ]
    }
   ],
   "source": [
    "import master\n",
    "import marketdata\n",
    "import contracts\n",
    "import helper\n",
    "\n",
    "PORT = 7497\n",
    "md_app = marketdata.get_instance(port=PORT)\n",
    "ct_app = contracts.get_instance(port=PORT)"
   ]
  },
  {
   "cell_type": "code",
   "execution_count": null,
   "metadata": {},
   "outputs": [],
   "source": []
  },
  {
   "cell_type": "code",
   "execution_count": 67,
   "metadata": {},
   "outputs": [
    {
     "name": "stdout",
     "output_type": "stream",
     "text": [
      "Match 0: 97589608,CL,FUT,20200519,0.0,,1000,NYMEX,,USD,CLM0,CL,False,,combo:\n",
      "Match 1: 97589608,CL,FUT,20200519,0.0,,1000,QBALGO,,USD,CLM0,CL,False,,combo:\n",
      "Match 2: 388005644,CL,FUT,20200619,0.0,,100,ONE,,USD,CL1DM0,CL1D,False,,combo:\n",
      "Saved: 97589608,CL,FUT,20200519,0.0,,1000,NYMEX,,USD,CLM0,CL,False,,combo:\n"
     ]
    }
   ],
   "source": [
    "# Find a particular contract\n",
    "partial_contract = ibapi.contract.Contract()\n",
    "partial_contract.symbol = 'CL'\n",
    "partial_contract.secType = 'FUT'\n",
    "partial_contract.lastTradeDateOrContractMonth = '202006'\n",
    "partial_contract.currency = 'USD'\n",
    "\n",
    "#ct_app.match_contract(partial_contract)\n",
    "matching_contracts = ct_app.get_all_matching_contracts(partial_contract)\n",
    "[print('Match {}: {}'.format(j, mc)) for j, mc in enumerate(matching_contracts)]\n",
    "\n",
    "_contract = matching_contracts[0]\n",
    "\n",
    "#ct_app.add_to_saved_contracts([_contract])\n",
    "\n",
    "print('Saved: {}'.format(ct_app.get_contract(_contract.localSymbol)))"
   ]
  },
  {
   "cell_type": "code",
   "execution_count": null,
   "metadata": {},
   "outputs": [],
   "source": []
  },
  {
   "cell_type": "code",
   "execution_count": 18,
   "metadata": {},
   "outputs": [
    {
     "name": "stdout",
     "output_type": "stream",
     "text": [
      "WARNING: this request may be invalid. Need to add tests that duration is valid.\n"
     ]
    }
   ],
   "source": [
    "# First, create a historical time series request\n",
    "ticker = 'ESM0'\n",
    "frequency = '5s'\n",
    "data_type = 'TRADES'\n",
    "start = ''\n",
    "end = ''\n",
    "duration = '60s'\n",
    "\n",
    "contractList = [ct_app.get_contract(ticker)]\n",
    "histReqObjList = md_app.create_historical_data_request(contractList, is_snapshot=False, frequency=frequency, \n",
    "                                        use_rth=False, data_type=data_type,\n",
    "                                        start=start, end=end, duration=duration)"
   ]
  },
  {
   "cell_type": "code",
   "execution_count": 19,
   "metadata": {},
   "outputs": [],
   "source": [
    "# Place the time series request\n",
    "histReqObj = histReqObjList[0]\n",
    "histReqObj.place_request()"
   ]
  },
  {
   "cell_type": "code",
   "execution_count": 20,
   "metadata": {},
   "outputs": [
    {
     "data": {
      "text/html": [
       "<div>\n",
       "<style scoped>\n",
       "    .dataframe tbody tr th:only-of-type {\n",
       "        vertical-align: middle;\n",
       "    }\n",
       "\n",
       "    .dataframe tbody tr th {\n",
       "        vertical-align: top;\n",
       "    }\n",
       "\n",
       "    .dataframe thead th {\n",
       "        text-align: right;\n",
       "    }\n",
       "</style>\n",
       "<table border=\"1\" class=\"dataframe\">\n",
       "  <thead>\n",
       "    <tr style=\"text-align: right;\">\n",
       "      <th></th>\n",
       "      <th>close</th>\n",
       "      <th>date</th>\n",
       "      <th>high</th>\n",
       "      <th>low</th>\n",
       "      <th>open</th>\n",
       "    </tr>\n",
       "    <tr>\n",
       "      <th>est_timestamp</th>\n",
       "      <th></th>\n",
       "      <th></th>\n",
       "      <th></th>\n",
       "      <th></th>\n",
       "      <th></th>\n",
       "    </tr>\n",
       "  </thead>\n",
       "  <tbody>\n",
       "    <tr>\n",
       "      <th>1.587597e+09</th>\n",
       "      <td>2785.25</td>\n",
       "      <td>20200423  01:01:50</td>\n",
       "      <td>2785.25</td>\n",
       "      <td>2785.25</td>\n",
       "      <td>2785.25</td>\n",
       "    </tr>\n",
       "    <tr>\n",
       "      <th>1.587597e+09</th>\n",
       "      <td>2785.75</td>\n",
       "      <td>20200423  01:02:00</td>\n",
       "      <td>2786.00</td>\n",
       "      <td>2785.25</td>\n",
       "      <td>2785.25</td>\n",
       "    </tr>\n",
       "    <tr>\n",
       "      <th>1.587597e+09</th>\n",
       "      <td>2785.75</td>\n",
       "      <td>20200423  01:02:05</td>\n",
       "      <td>2785.75</td>\n",
       "      <td>2785.75</td>\n",
       "      <td>2785.75</td>\n",
       "    </tr>\n",
       "    <tr>\n",
       "      <th>1.587597e+09</th>\n",
       "      <td>2785.50</td>\n",
       "      <td>20200423  01:02:10</td>\n",
       "      <td>2785.75</td>\n",
       "      <td>2785.50</td>\n",
       "      <td>2785.75</td>\n",
       "    </tr>\n",
       "    <tr>\n",
       "      <th>1.587597e+09</th>\n",
       "      <td>2785.25</td>\n",
       "      <td>20200423  01:02:15</td>\n",
       "      <td>2785.50</td>\n",
       "      <td>2785.25</td>\n",
       "      <td>2785.50</td>\n",
       "    </tr>\n",
       "  </tbody>\n",
       "</table>\n",
       "</div>"
      ],
      "text/plain": [
       "                 close                date     high      low     open\n",
       "est_timestamp                                                        \n",
       "1.587597e+09   2785.25  20200423  01:01:50  2785.25  2785.25  2785.25\n",
       "1.587597e+09   2785.75  20200423  01:02:00  2786.00  2785.25  2785.25\n",
       "1.587597e+09   2785.75  20200423  01:02:05  2785.75  2785.75  2785.75\n",
       "1.587597e+09   2785.50  20200423  01:02:10  2785.75  2785.50  2785.75\n",
       "1.587597e+09   2785.25  20200423  01:02:15  2785.50  2785.25  2785.50"
      ]
     },
     "execution_count": 20,
     "metadata": {},
     "output_type": "execute_result"
    }
   ],
   "source": [
    "hist_df = histReqObj.get_dataframe()\n",
    "hist_df.tail()"
   ]
  },
  {
   "cell_type": "code",
   "execution_count": null,
   "metadata": {},
   "outputs": [],
   "source": []
  },
  {
   "cell_type": "code",
   "execution_count": null,
   "metadata": {},
   "outputs": [],
   "source": []
  },
  {
   "cell_type": "code",
   "execution_count": 3,
   "metadata": {},
   "outputs": [],
   "source": [
    "# Get streaming 5 second bars\n",
    "ticker = 'ESM0'\n",
    "data_type = 'TRADES'\n",
    "\n",
    "contractList = [ct_app.get_contract(ticker)]\n",
    "streamingBarObj = md_app.create_streaming_bar_data_request(contractList, use_rth=False, data_type=data_type)"
   ]
  },
  {
   "cell_type": "code",
   "execution_count": 4,
   "metadata": {},
   "outputs": [],
   "source": [
    "strBarObj = streamingBarObj[0]\n",
    "strBarObj.place_request()"
   ]
  },
  {
   "cell_type": "code",
   "execution_count": null,
   "metadata": {},
   "outputs": [],
   "source": []
  },
  {
   "cell_type": "code",
   "execution_count": null,
   "metadata": {},
   "outputs": [],
   "source": []
  },
  {
   "cell_type": "code",
   "execution_count": 33,
   "metadata": {},
   "outputs": [],
   "source": [
    "# Create a time series request for ticks\n",
    "ticker = 'ESM0'\n",
    "data_type = 'Last'\n",
    "number_of_ticks = 0\n",
    "\n",
    "contractList = [ct_app.get_contract(ticker)]\n",
    "tickReqObjList = md_app.create_streaming_tick_data_request(contractList, data_type=data_type,\n",
    "                                                    number_of_ticks=number_of_ticks)"
   ]
  },
  {
   "cell_type": "code",
   "execution_count": 34,
   "metadata": {},
   "outputs": [],
   "source": [
    "tickReqObj = tickReqObjList[0]\n",
    "tickReqObj.place_request()"
   ]
  },
  {
   "cell_type": "code",
   "execution_count": 41,
   "metadata": {},
   "outputs": [
    {
     "data": {
      "text/html": [
       "<div>\n",
       "<style scoped>\n",
       "    .dataframe tbody tr th:only-of-type {\n",
       "        vertical-align: middle;\n",
       "    }\n",
       "\n",
       "    .dataframe tbody tr th {\n",
       "        vertical-align: top;\n",
       "    }\n",
       "\n",
       "    .dataframe thead th {\n",
       "        text-align: right;\n",
       "    }\n",
       "</style>\n",
       "<table border=\"1\" class=\"dataframe\">\n",
       "  <thead>\n",
       "    <tr style=\"text-align: right;\">\n",
       "      <th></th>\n",
       "      <th>price</th>\n",
       "      <th>size</th>\n",
       "    </tr>\n",
       "    <tr>\n",
       "      <th>time</th>\n",
       "      <th></th>\n",
       "      <th></th>\n",
       "    </tr>\n",
       "  </thead>\n",
       "  <tbody>\n",
       "    <tr>\n",
       "      <th>1587618580</th>\n",
       "      <td>2792.75</td>\n",
       "      <td>1</td>\n",
       "    </tr>\n",
       "    <tr>\n",
       "      <th>1587618583</th>\n",
       "      <td>2792.50</td>\n",
       "      <td>4</td>\n",
       "    </tr>\n",
       "    <tr>\n",
       "      <th>1587618583</th>\n",
       "      <td>2792.50</td>\n",
       "      <td>1</td>\n",
       "    </tr>\n",
       "    <tr>\n",
       "      <th>1587618583</th>\n",
       "      <td>2792.50</td>\n",
       "      <td>1</td>\n",
       "    </tr>\n",
       "    <tr>\n",
       "      <th>1587618583</th>\n",
       "      <td>2792.75</td>\n",
       "      <td>5</td>\n",
       "    </tr>\n",
       "  </tbody>\n",
       "</table>\n",
       "</div>"
      ],
      "text/plain": [
       "              price  size\n",
       "time                     \n",
       "1587618580  2792.75     1\n",
       "1587618583  2792.50     4\n",
       "1587618583  2792.50     1\n",
       "1587618583  2792.50     1\n",
       "1587618583  2792.75     5"
      ]
     },
     "execution_count": 41,
     "metadata": {},
     "output_type": "execute_result"
    },
    {
     "name": "stderr",
     "output_type": "stream",
     "text": [
      "ERROR -1 1100 Connectivity between IB and Trader Workstation has been lost.\n",
      "ERROR -1 1100 Connectivity between IB and Trader Workstation has been lost.\n"
     ]
    },
    {
     "name": "stdout",
     "output_type": "stream",
     "text": [
      "ERROR: request -1\n",
      "ERROR: request -1\n"
     ]
    }
   ],
   "source": [
    "df_tick = tickReqObj.get_dataframe()\n",
    "df_tick.tail()"
   ]
  },
  {
   "cell_type": "code",
   "execution_count": 40,
   "metadata": {},
   "outputs": [
    {
     "data": {
      "text/html": [
       "<div>\n",
       "<style scoped>\n",
       "    .dataframe tbody tr th:only-of-type {\n",
       "        vertical-align: middle;\n",
       "    }\n",
       "\n",
       "    .dataframe tbody tr th {\n",
       "        vertical-align: top;\n",
       "    }\n",
       "\n",
       "    .dataframe thead th {\n",
       "        text-align: right;\n",
       "    }\n",
       "</style>\n",
       "<table border=\"1\" class=\"dataframe\">\n",
       "  <thead>\n",
       "    <tr style=\"text-align: right;\">\n",
       "      <th></th>\n",
       "      <th>open</th>\n",
       "      <th>high</th>\n",
       "      <th>low</th>\n",
       "      <th>close</th>\n",
       "      <th>volume</th>\n",
       "      <th>barCount</th>\n",
       "      <th>average</th>\n",
       "    </tr>\n",
       "  </thead>\n",
       "  <tbody>\n",
       "    <tr>\n",
       "      <th>1587618265</th>\n",
       "      <td>2791.75</td>\n",
       "      <td>2792.00</td>\n",
       "      <td>2791.75</td>\n",
       "      <td>2791.75</td>\n",
       "      <td>8</td>\n",
       "      <td>4</td>\n",
       "      <td>2791.906250</td>\n",
       "    </tr>\n",
       "    <tr>\n",
       "      <th>1587618266</th>\n",
       "      <td>2792.00</td>\n",
       "      <td>2792.00</td>\n",
       "      <td>2791.75</td>\n",
       "      <td>2792.00</td>\n",
       "      <td>3</td>\n",
       "      <td>3</td>\n",
       "      <td>2791.916667</td>\n",
       "    </tr>\n",
       "    <tr>\n",
       "      <th>1587618267</th>\n",
       "      <td>2792.00</td>\n",
       "      <td>2792.00</td>\n",
       "      <td>2792.00</td>\n",
       "      <td>2792.00</td>\n",
       "      <td>15</td>\n",
       "      <td>8</td>\n",
       "      <td>2792.000000</td>\n",
       "    </tr>\n",
       "    <tr>\n",
       "      <th>1587618268</th>\n",
       "      <td>2791.75</td>\n",
       "      <td>2791.75</td>\n",
       "      <td>2791.75</td>\n",
       "      <td>2791.75</td>\n",
       "      <td>24</td>\n",
       "      <td>10</td>\n",
       "      <td>2791.750000</td>\n",
       "    </tr>\n",
       "    <tr>\n",
       "      <th>1587618269</th>\n",
       "      <td>2791.50</td>\n",
       "      <td>2791.50</td>\n",
       "      <td>2791.25</td>\n",
       "      <td>2791.50</td>\n",
       "      <td>21</td>\n",
       "      <td>8</td>\n",
       "      <td>2791.476190</td>\n",
       "    </tr>\n",
       "  </tbody>\n",
       "</table>\n",
       "</div>"
      ],
      "text/plain": [
       "               open     high      low    close  volume  barCount      average\n",
       "1587618265  2791.75  2792.00  2791.75  2791.75       8         4  2791.906250\n",
       "1587618266  2792.00  2792.00  2791.75  2792.00       3         3  2791.916667\n",
       "1587618267  2792.00  2792.00  2792.00  2792.00      15         8  2792.000000\n",
       "1587618268  2791.75  2791.75  2791.75  2791.75      24        10  2791.750000\n",
       "1587618269  2791.50  2791.50  2791.25  2791.50      21         8  2791.476190"
      ]
     },
     "execution_count": 40,
     "metadata": {},
     "output_type": "execute_result"
    }
   ],
   "source": [
    "ts = tutils.convert_tick_to_time_bars(df_tick)\n",
    "ts.tail()"
   ]
  },
  {
   "cell_type": "code",
   "execution_count": 637,
   "metadata": {},
   "outputs": [],
   "source": [
    "#df.to_hdf('data/ESM0_tick.h5', 'TRADES_20200422')\n",
    "#new_df = pd.read_hdf('data/ESM0_tick.h5', 'TRADES_20200422')"
   ]
  },
  {
   "cell_type": "code",
   "execution_count": null,
   "metadata": {},
   "outputs": [
    {
     "name": "stderr",
     "output_type": "stream",
     "text": [
      "ERROR -1 1100 Connectivity between IB and Trader Workstation has been lost.\n",
      "ERROR -1 1100 Connectivity between IB and Trader Workstation has been lost.\n"
     ]
    },
    {
     "name": "stdout",
     "output_type": "stream",
     "text": [
      "ERROR: request -1\n",
      "ERROR: request -1\n"
     ]
    }
   ],
   "source": []
  },
  {
   "cell_type": "code",
   "execution_count": 298,
   "metadata": {},
   "outputs": [],
   "source": []
  },
  {
   "cell_type": "code",
   "execution_count": null,
   "metadata": {},
   "outputs": [],
   "source": []
  }
 ],
 "metadata": {
  "kernelspec": {
   "display_name": "Python (python37)",
   "language": "python",
   "name": "python37"
  },
  "language_info": {
   "codemirror_mode": {
    "name": "ipython",
    "version": 3
   },
   "file_extension": ".py",
   "mimetype": "text/x-python",
   "name": "python",
   "nbconvert_exporter": "python",
   "pygments_lexer": "ipython3",
   "version": "3.7.3"
  }
 },
 "nbformat": 4,
 "nbformat_minor": 2
}
