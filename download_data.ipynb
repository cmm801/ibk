{
 "cells": [
  {
   "cell_type": "code",
   "execution_count": 1,
   "metadata": {},
   "outputs": [],
   "source": [
    "import datetime\n",
    "import time\n",
    "import master\n",
    "\n",
    "import pandas as pd\n",
    "import numpy as np\n",
    "\n",
    "import sys, os\n",
    "sys.path.append(os.path.join(os.path.dirname('.'), '..', 'lib'))\n",
    "sys.path.insert(0, '/Users/chris/programming/interactivebrokers')\n",
    "import ibapi"
   ]
  },
  {
   "cell_type": "code",
   "execution_count": 2,
   "metadata": {},
   "outputs": [
    {
     "name": "stderr",
     "output_type": "stream",
     "text": [
      "ERROR -1 2104 Market data farm connection is OK:hfarm\n",
      "ERROR -1 2104 Market data farm connection is OK:cashfarm\n",
      "ERROR -1 2104 Market data farm connection is OK:usfuture\n",
      "ERROR -1 2104 Market data farm connection is OK:usfuture.nj\n",
      "ERROR -1 2104 Market data farm connection is OK:jfarm\n",
      "ERROR -1 2104 Market data farm connection is OK:usfarm.nj\n",
      "ERROR -1 2104 Market data farm connection is OK:eufarm\n",
      "ERROR -1 2104 Market data farm connection is OK:usopt\n",
      "ERROR -1 2104 Market data farm connection is OK:usfarm\n",
      "ERROR -1 2106 HMDS data farm connection is OK:euhmds\n",
      "ERROR -1 2106 HMDS data farm connection is OK:ushmds.nj\n",
      "ERROR -1 2106 HMDS data farm connection is OK:fundfarm\n",
      "ERROR -1 2106 HMDS data farm connection is OK:ushmds\n",
      "ERROR -1 2158 Sec-def data farm connection is OK:secdefnj\n"
     ]
    },
    {
     "name": "stdout",
     "output_type": "stream",
     "text": [
      "serverVersion:155 connectionTime:b'20200410 11:21:30 EST'\n",
      "MarketDataApp connecting to IB...\n",
      "ERROR: request -1\n",
      "ERROR: request -1\n",
      "ERROR: request -1\n",
      "ERROR: request -1\n",
      "ERROR: request -1\n",
      "ERROR: request -1\n",
      "ERROR: request -1\n",
      "ERROR: request -1\n",
      "ERROR: request -1\n",
      "ERROR: request -1\n",
      "ERROR: request -1\n",
      "ERROR: request -1\n",
      "ERROR: request -1\n",
      "ERROR: request -1\n"
     ]
    },
    {
     "name": "stderr",
     "output_type": "stream",
     "text": [
      "ERROR -1 2104 Market data farm connection is OK:hfarm\n",
      "ERROR -1 2104 Market data farm connection is OK:cashfarm\n",
      "ERROR -1 2104 Market data farm connection is OK:usfuture\n",
      "ERROR -1 2104 Market data farm connection is OK:usfuture.nj\n",
      "ERROR -1 2104 Market data farm connection is OK:jfarm\n",
      "ERROR -1 2104 Market data farm connection is OK:usfarm.nj\n",
      "ERROR -1 2104 Market data farm connection is OK:eufarm\n",
      "ERROR -1 2104 Market data farm connection is OK:usopt\n",
      "ERROR -1 2104 Market data farm connection is OK:usfarm\n",
      "ERROR -1 2106 HMDS data farm connection is OK:euhmds\n",
      "ERROR -1 2106 HMDS data farm connection is OK:ushmds.nj\n",
      "ERROR -1 2106 HMDS data farm connection is OK:fundfarm\n",
      "ERROR -1 2106 HMDS data farm connection is OK:ushmds\n",
      "ERROR -1 2158 Sec-def data farm connection is OK:secdefnj\n"
     ]
    },
    {
     "name": "stdout",
     "output_type": "stream",
     "text": [
      "MarketDataApp connected.\n",
      "serverVersion:155 connectionTime:b'20200410 11:21:30 EST'\n",
      "MarketDataApp connecting to IB...\n",
      "ERROR: request -1\n",
      "ERROR: request -1\n",
      "ERROR: request -1\n",
      "ERROR: request -1\n",
      "ERROR: request -1\n",
      "ERROR: request -1\n",
      "ERROR: request -1\n",
      "ERROR: request -1\n",
      "ERROR: request -1\n",
      "ERROR: request -1\n",
      "ERROR: request -1\n",
      "ERROR: request -1\n",
      "ERROR: request -1\n",
      "ERROR: request -1\n",
      "MarketDataApp connected.\n"
     ]
    }
   ],
   "source": [
    "import marketdata\n",
    "import contracts\n",
    "import helper\n",
    "\n",
    "PORT = 7496\n",
    "md_app = marketdata.get_instance(port=PORT)\n",
    "ct_app = contracts.get_instance(port=PORT)"
   ]
  },
  {
   "cell_type": "code",
   "execution_count": 3,
   "metadata": {},
   "outputs": [],
   "source": [
    "def download_and_save_daily_data(md_app, contract, start, end, skip_weekends=True, \n",
    "                                             data_type='TRADES', min_count=1500):\n",
    "    period_start = start\n",
    "    while period_start < end:\n",
    "        # Skip weekends\n",
    "        if period_start.weekday() in [5, 6] and skip_weekends:\n",
    "            period_start += datetime.timedelta(days=1)\n",
    "            continue\n",
    "            \n",
    "        # Get the next period end            \n",
    "        period_end = min(end, period_start + datetime.timedelta(days=1))\n",
    "\n",
    "        # Get the request object\n",
    "        tws_start = helper.convert_datetime_to_tws_date(period_start)\n",
    "        tws_end = helper.convert_datetime_to_tws_date(period_end)    \n",
    "        reqObjList = md_app.create_historical_data_request([contract], is_snapshot=True, frequency=frequency, \n",
    "                                                use_rth=False, data_type=data_type,\n",
    "                                                start=tws_start, end=tws_end, duration=\"\")\n",
    "        reqObj = reqObjList[0]\n",
    "        assert reqObj is not None, 'Must be legitimate request'\n",
    "\n",
    "        # Download the data for the next period\n",
    "        df = download_daily_data(reqObj, start=tws_start, end=tws_end, frequency=frequency, min_count=min_count)\n",
    "\n",
    "        # Save to file    \n",
    "        date = tws_start.split(' ')[0]\n",
    "        filename = 'data/{}_{}_{}.csv'.format(ticker, reqObj.frequency, date)\n",
    "        df.to_csv(filename, index=False)\n",
    "        print('Saved data to {}'.format(filename))\n",
    "\n",
    "        # Get the next start date\n",
    "        period_start += datetime.timedelta(days=1)\n",
    "    \n",
    "    \n",
    "def download_daily_data(reqObj, start, end, frequency, data_type='TRADES', min_count=1500):    \n",
    "\n",
    "    # Place the time series request\n",
    "    reqObj.place_request()\n",
    "    \n",
    "    # Wait until the data has been returned by IB\n",
    "    data = reqObj.get_data()\n",
    "    n_requests = len(reqObj.get_subrequests())\n",
    "\n",
    "    t0 = time.time()\n",
    "    ct = 0\n",
    "    while ct != 48:\n",
    "        print('{}: {}'.format(int(time.time() - t0), ct))\n",
    "        time.sleep(5)\n",
    "        ct = sum([min_count <= r for r in [len(data[idx][0]) for idx in range(n_requests)]])\n",
    "\n",
    "    print('Finished downloading for {}. Time elapsed: {}'.format(start, time.time() - t0))\n",
    "    \n",
    "    # Turn the data into a dataframe\n",
    "    df = pd.DataFrame()\n",
    "    for d in data:\n",
    "        df = pd.concat([df, pd.DataFrame(d[0])])\n",
    "\n",
    "    # Drop duplicated rows\n",
    "    df.drop_duplicates(inplace=True)\n",
    "    df = df[df.volume > 0]\n",
    "    return df"
   ]
  },
  {
   "cell_type": "code",
   "execution_count": null,
   "metadata": {},
   "outputs": [],
   "source": []
  },
  {
   "cell_type": "code",
   "execution_count": 4,
   "metadata": {},
   "outputs": [
    {
     "data": {
      "text/plain": [
       "[4379906232: 380797931,VIX,FUT,20200520,0.0,,1000,CFE,,USD,VXK0,VX,False,,combo:,\n",
       " 4587099472: 414547673,VIX,FUT,20200506,0.0,,1000,CFE,,USD,VX18K0,VX18,False,,combo:,\n",
       " 4379761688: 415634831,VIX,FUT,20200513,0.0,,1000,CFE,,USD,VX19K0,VX19,False,,combo:,\n",
       " 4587327840: 416528422,VIX,FUT,20200527,0.0,,1000,CFE,,USD,VX21K0,VX21,False,,combo:]"
      ]
     },
     "execution_count": 4,
     "metadata": {},
     "output_type": "execute_result"
    }
   ],
   "source": [
    "partial_contract = ibapi.contract.Contract()\n",
    "partial_contract.symbol = 'VIX'\n",
    "partial_contract.secType = 'FUT'\n",
    "partial_contract.lastTradeDateOrContractMonth = '202005'\n",
    "partial_contract.currency = 'USD'\n",
    "\n",
    "#ct_app.match_contract(partial_contract)\n",
    "matching_contracts = ct_app.get_all_matching_contracts(partial_contract)\n",
    "matching_contracts"
   ]
  },
  {
   "cell_type": "code",
   "execution_count": 5,
   "metadata": {},
   "outputs": [],
   "source": [
    "_contract = matching_contracts[0]\n",
    "#ct_app.add_to_saved_contracts([contract])\n",
    "#ct_app.get_contract(contract.localSymbol)"
   ]
  },
  {
   "cell_type": "code",
   "execution_count": 16,
   "metadata": {},
   "outputs": [
    {
     "name": "stdout",
     "output_type": "stream",
     "text": [
      "Sleeping to avoid pacing violation from requests on same contract...\n",
      "Sleeping to avoid pacing violation from requests on same contract...\n",
      "Sleeping 138.70131812095642 seconds to avoid pacing violation on total requests.\n",
      "Sleeping to avoid pacing violation from requests on same contract...\n",
      "Sleeping to avoid pacing violation from requests on same contract...\n",
      "Sleeping 260.9269650936127 seconds to avoid pacing violation on total requests.\n",
      "Sleeping to avoid pacing violation from requests on same contract...\n",
      "Sleeping to avoid pacing violation from requests on same contract...\n",
      "Sleeping 5.821851110458374 seconds to avoid pacing violation on total requests.\n",
      "Sleeping to avoid pacing violation from requests on same contract...\n",
      "Sleeping to avoid pacing violation from requests on same contract...\n",
      "0: 0\n",
      "Finished downloading for 20200317 00:00:00. Time elapsed: 5.003540992736816\n",
      "Saved data to data/VXK0_1s_20200317.csv\n",
      "Sleeping to avoid pacing violation from requests on same contract...\n",
      "Sleeping to avoid pacing violation from requests on same contract...\n",
      "Sleeping 165.76269278526306 seconds to avoid pacing violation on total requests.\n",
      "Sleeping to avoid pacing violation from requests on same contract...\n",
      "Sleeping to avoid pacing violation from requests on same contract...\n",
      "Sleeping 138.70245084762573 seconds to avoid pacing violation on total requests.\n",
      "Sleeping to avoid pacing violation from requests on same contract...\n",
      "Sleeping to avoid pacing violation from requests on same contract...\n",
      "Sleeping 260.9306558132172 seconds to avoid pacing violation on total requests.\n",
      "Sleeping to avoid pacing violation from requests on same contract...\n",
      "Sleeping to avoid pacing violation from requests on same contract...\n",
      "0: 0\n",
      "5: 47\n",
      "10: 47\n",
      "15: 47\n",
      "20: 47\n",
      "25: 47\n",
      "30: 47\n",
      "35: 47\n",
      "40: 47\n",
      "45: 47\n",
      "50: 47\n",
      "55: 47\n",
      "60: 47\n"
     ]
    },
    {
     "ename": "KeyboardInterrupt",
     "evalue": "",
     "output_type": "error",
     "traceback": [
      "\u001b[0;31m---------------------------------------------------------------------------\u001b[0m",
      "\u001b[0;31mKeyboardInterrupt\u001b[0m                         Traceback (most recent call last)",
      "\u001b[0;32m<ipython-input-16-86baa8415aa2>\u001b[0m in \u001b[0;36m<module>\u001b[0;34m\u001b[0m\n\u001b[1;32m      7\u001b[0m \u001b[0;31m# Get the contract for the target ticker\u001b[0m\u001b[0;34m\u001b[0m\u001b[0;34m\u001b[0m\u001b[0;34m\u001b[0m\u001b[0m\n\u001b[1;32m      8\u001b[0m \u001b[0mcontract\u001b[0m \u001b[0;34m=\u001b[0m \u001b[0mct_app\u001b[0m\u001b[0;34m.\u001b[0m\u001b[0mget_contract\u001b[0m\u001b[0;34m(\u001b[0m\u001b[0mticker\u001b[0m\u001b[0;34m)\u001b[0m\u001b[0;34m\u001b[0m\u001b[0;34m\u001b[0m\u001b[0m\n\u001b[0;32m----> 9\u001b[0;31m \u001b[0mdownload_and_save_daily_data\u001b[0m\u001b[0;34m(\u001b[0m\u001b[0mmd_app\u001b[0m\u001b[0;34m,\u001b[0m \u001b[0mcontract\u001b[0m\u001b[0;34m,\u001b[0m \u001b[0mstart\u001b[0m\u001b[0;34m,\u001b[0m \u001b[0mend\u001b[0m\u001b[0;34m,\u001b[0m \u001b[0mskip_weekends\u001b[0m\u001b[0;34m=\u001b[0m\u001b[0;32mTrue\u001b[0m\u001b[0;34m,\u001b[0m \u001b[0mmin_count\u001b[0m\u001b[0;34m=\u001b[0m\u001b[0;36m1500\u001b[0m\u001b[0;34m)\u001b[0m\u001b[0;34m\u001b[0m\u001b[0;34m\u001b[0m\u001b[0m\n\u001b[0m",
      "\u001b[0;32m<ipython-input-3-cb2c33d2e29d>\u001b[0m in \u001b[0;36mdownload_and_save_daily_data\u001b[0;34m(md_app, contract, start, end, skip_weekends, data_type, min_count)\u001b[0m\n\u001b[1;32m     21\u001b[0m \u001b[0;34m\u001b[0m\u001b[0m\n\u001b[1;32m     22\u001b[0m         \u001b[0;31m# Download the data for the next period\u001b[0m\u001b[0;34m\u001b[0m\u001b[0;34m\u001b[0m\u001b[0;34m\u001b[0m\u001b[0m\n\u001b[0;32m---> 23\u001b[0;31m         \u001b[0mdf\u001b[0m \u001b[0;34m=\u001b[0m \u001b[0mdownload_daily_data\u001b[0m\u001b[0;34m(\u001b[0m\u001b[0mreqObj\u001b[0m\u001b[0;34m,\u001b[0m \u001b[0mstart\u001b[0m\u001b[0;34m=\u001b[0m\u001b[0mtws_start\u001b[0m\u001b[0;34m,\u001b[0m \u001b[0mend\u001b[0m\u001b[0;34m=\u001b[0m\u001b[0mtws_end\u001b[0m\u001b[0;34m,\u001b[0m \u001b[0mfrequency\u001b[0m\u001b[0;34m=\u001b[0m\u001b[0mfrequency\u001b[0m\u001b[0;34m,\u001b[0m \u001b[0mmin_count\u001b[0m\u001b[0;34m=\u001b[0m\u001b[0mmin_count\u001b[0m\u001b[0;34m)\u001b[0m\u001b[0;34m\u001b[0m\u001b[0;34m\u001b[0m\u001b[0m\n\u001b[0m\u001b[1;32m     24\u001b[0m \u001b[0;34m\u001b[0m\u001b[0m\n\u001b[1;32m     25\u001b[0m         \u001b[0;31m# Save to file\u001b[0m\u001b[0;34m\u001b[0m\u001b[0;34m\u001b[0m\u001b[0;34m\u001b[0m\u001b[0m\n",
      "\u001b[0;32m<ipython-input-3-cb2c33d2e29d>\u001b[0m in \u001b[0;36mdownload_daily_data\u001b[0;34m(reqObj, start, end, frequency, data_type, min_count)\u001b[0m\n\u001b[1;32m     46\u001b[0m     \u001b[0;32mwhile\u001b[0m \u001b[0mct\u001b[0m \u001b[0;34m!=\u001b[0m \u001b[0;36m48\u001b[0m\u001b[0;34m:\u001b[0m\u001b[0;34m\u001b[0m\u001b[0;34m\u001b[0m\u001b[0m\n\u001b[1;32m     47\u001b[0m         \u001b[0mprint\u001b[0m\u001b[0;34m(\u001b[0m\u001b[0;34m'{}: {}'\u001b[0m\u001b[0;34m.\u001b[0m\u001b[0mformat\u001b[0m\u001b[0;34m(\u001b[0m\u001b[0mint\u001b[0m\u001b[0;34m(\u001b[0m\u001b[0mtime\u001b[0m\u001b[0;34m.\u001b[0m\u001b[0mtime\u001b[0m\u001b[0;34m(\u001b[0m\u001b[0;34m)\u001b[0m \u001b[0;34m-\u001b[0m \u001b[0mt0\u001b[0m\u001b[0;34m)\u001b[0m\u001b[0;34m,\u001b[0m \u001b[0mct\u001b[0m\u001b[0;34m)\u001b[0m\u001b[0;34m)\u001b[0m\u001b[0;34m\u001b[0m\u001b[0;34m\u001b[0m\u001b[0m\n\u001b[0;32m---> 48\u001b[0;31m         \u001b[0mtime\u001b[0m\u001b[0;34m.\u001b[0m\u001b[0msleep\u001b[0m\u001b[0;34m(\u001b[0m\u001b[0;36m5\u001b[0m\u001b[0;34m)\u001b[0m\u001b[0;34m\u001b[0m\u001b[0;34m\u001b[0m\u001b[0m\n\u001b[0m\u001b[1;32m     49\u001b[0m         \u001b[0mct\u001b[0m \u001b[0;34m=\u001b[0m \u001b[0msum\u001b[0m\u001b[0;34m(\u001b[0m\u001b[0;34m[\u001b[0m\u001b[0mmin_count\u001b[0m \u001b[0;34m<=\u001b[0m \u001b[0mr\u001b[0m \u001b[0;32mfor\u001b[0m \u001b[0mr\u001b[0m \u001b[0;32min\u001b[0m \u001b[0;34m[\u001b[0m\u001b[0mlen\u001b[0m\u001b[0;34m(\u001b[0m\u001b[0mdata\u001b[0m\u001b[0;34m[\u001b[0m\u001b[0midx\u001b[0m\u001b[0;34m]\u001b[0m\u001b[0;34m[\u001b[0m\u001b[0;36m0\u001b[0m\u001b[0;34m]\u001b[0m\u001b[0;34m)\u001b[0m \u001b[0;32mfor\u001b[0m \u001b[0midx\u001b[0m \u001b[0;32min\u001b[0m \u001b[0mrange\u001b[0m\u001b[0;34m(\u001b[0m\u001b[0mn_requests\u001b[0m\u001b[0;34m)\u001b[0m\u001b[0;34m]\u001b[0m\u001b[0;34m]\u001b[0m\u001b[0;34m)\u001b[0m\u001b[0;34m\u001b[0m\u001b[0;34m\u001b[0m\u001b[0m\n\u001b[1;32m     50\u001b[0m \u001b[0;34m\u001b[0m\u001b[0m\n",
      "\u001b[0;31mKeyboardInterrupt\u001b[0m: "
     ]
    }
   ],
   "source": [
    "ticker = 'VXK0'\n",
    "frequency = '1s'\n",
    "\n",
    "start = datetime.datetime(2020, 3, 17, 0, 0, 0)\n",
    "end = datetime.datetime(2020, 3, 21, 0, 0, 0)\n",
    "\n",
    "# Get the contract for the target ticker\n",
    "contract = ct_app.get_contract(ticker)\n",
    "download_and_save_daily_data(md_app, contract, start, end, skip_weekends=True, min_count=1500)"
   ]
  },
  {
   "cell_type": "code",
   "execution_count": null,
   "metadata": {},
   "outputs": [],
   "source": []
  },
  {
   "cell_type": "code",
   "execution_count": null,
   "metadata": {},
   "outputs": [],
   "source": []
  },
  {
   "cell_type": "code",
   "execution_count": null,
   "metadata": {},
   "outputs": [],
   "source": []
  },
  {
   "cell_type": "code",
   "execution_count": 29,
   "metadata": {},
   "outputs": [],
   "source": [
    "# Create a time series request\n",
    "ticker = 'VXK0'\n",
    "frequency = '1s'\n",
    "start = '20200320 00:00:00'\n",
    "end = '20200321 00:00:00'\n",
    "duration = ''\n",
    "\n",
    "contractList = [ct_app.get_contract(ticker)]\n",
    "reqObjList = md_app.create_historical_data_request(contractList, is_snapshot=True, frequency=frequency, \n",
    "                                        use_rth=False, data_type=\"TRADES\",\n",
    "                                        start=start, end=end, duration=duration)"
   ]
  },
  {
   "cell_type": "code",
   "execution_count": 30,
   "metadata": {},
   "outputs": [
    {
     "name": "stdout",
     "output_type": "stream",
     "text": [
      "Sleeping to avoid pacing violation from requests on same contract...\n",
      "Sleeping to avoid pacing violation from requests on same contract...\n",
      "Sleeping 239.9515830039978 seconds to avoid pacing violation on total requests.\n",
      "Sleeping to avoid pacing violation from requests on same contract...\n",
      "Sleeping to avoid pacing violation from requests on same contract...\n",
      "Sleeping 294.08257994651797 seconds to avoid pacing violation on total requests.\n",
      "Sleeping to avoid pacing violation from requests on same contract...\n",
      "Sleeping to avoid pacing violation from requests on same contract...\n",
      "Sleeping to avoid pacing violation from requests on same contract...\n",
      "Sleeping to avoid pacing violation from requests on same contract...\n"
     ]
    }
   ],
   "source": [
    "# Place the time series request\n",
    "reqObj = reqObjList[0]\n",
    "reqObj.place_request()"
   ]
  },
  {
   "cell_type": "code",
   "execution_count": 31,
   "metadata": {},
   "outputs": [
    {
     "name": "stdout",
     "output_type": "stream",
     "text": [
      "0\n",
      "Finished. Time elapsed: 5.003296852111816\n"
     ]
    }
   ],
   "source": [
    "# Wait until the data has been returned by IB\n",
    "data = reqObj.get_data()\n",
    "min_count = 1000\n",
    "\n",
    "n_requests = len(reqObj.get_subrequests())\n",
    "t0 = time.time()\n",
    "ct = 0\n",
    "while ct != 48:\n",
    "    print(ct)\n",
    "    time.sleep(5)\n",
    "    req_lengths = [len(data[idx][0]) for idx in range(n_requests)]    \n",
    "    ct = sum([min_count <= r for r in req_lengths])\n",
    "\n",
    "print('Finished. Time elapsed: {}'.format(time.time() - t0))"
   ]
  },
  {
   "cell_type": "code",
   "execution_count": 32,
   "metadata": {},
   "outputs": [
    {
     "data": {
      "text/plain": [
       "(8819, 8)"
      ]
     },
     "execution_count": 32,
     "metadata": {},
     "output_type": "execute_result"
    }
   ],
   "source": [
    "# Turn the data into a dataframe\n",
    "df = pd.DataFrame()\n",
    "for d in data:\n",
    "    df = pd.concat([df, pd.DataFrame(d[0])])\n",
    "    \n",
    "# Drop duplicated rows\n",
    "df.drop_duplicates(inplace=True)\n",
    "df = df[df.volume > 0]\n",
    "df.shape"
   ]
  },
  {
   "cell_type": "code",
   "execution_count": 33,
   "metadata": {},
   "outputs": [
    {
     "name": "stdout",
     "output_type": "stream",
     "text": [
      "data/VXK0_1s_20200320.csv\n"
     ]
    }
   ],
   "source": [
    "# Save to file\n",
    "date = start.split(' ')[0]\n",
    "symbol = reqObj.contract.localSymbol\n",
    "filename = 'data/{}_{}_{}.csv'.format(symbol, reqObj.frequency, date)\n",
    "df.to_csv(filename, index=False)\n",
    "print(filename)"
   ]
  },
  {
   "cell_type": "code",
   "execution_count": null,
   "metadata": {},
   "outputs": [],
   "source": []
  },
  {
   "cell_type": "code",
   "execution_count": null,
   "metadata": {},
   "outputs": [],
   "source": []
  },
  {
   "cell_type": "code",
   "execution_count": null,
   "metadata": {},
   "outputs": [],
   "source": [
    "# Compare the size of the various files to one another\n",
    "for f in sorted(os.listdir('data')):\n",
    "    tmp = pd.read_csv('data/' + f)\n",
    "    tmp.drop_duplicates(inplace=True)\n",
    "    n_zeros = np.sum(tmp.volume.values == 0)\n",
    "    N = tmp.shape[0]\n",
    "    print('{}: {} {}'.format(f, N, N - n_zeros))"
   ]
  },
  {
   "cell_type": "code",
   "execution_count": null,
   "metadata": {},
   "outputs": [],
   "source": []
  }
 ],
 "metadata": {
  "kernelspec": {
   "display_name": "Python (python37)",
   "language": "python",
   "name": "python37"
  },
  "language_info": {
   "codemirror_mode": {
    "name": "ipython",
    "version": 3
   },
   "file_extension": ".py",
   "mimetype": "text/x-python",
   "name": "python",
   "nbconvert_exporter": "python",
   "pygments_lexer": "ipython3",
   "version": "3.7.3"
  }
 },
 "nbformat": 4,
 "nbformat_minor": 2
}
